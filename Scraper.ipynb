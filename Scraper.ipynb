{
 "cells": [
  {
   "cell_type": "code",
   "execution_count": 70,
   "metadata": {
    "collapsed": true
   },
   "outputs": [],
   "source": [
    "import requests\n",
    "from bs4 import BeautifulSoup\n",
    "import pandas as pd"
   ]
  },
  {
   "cell_type": "code",
   "execution_count": 39,
   "metadata": {},
   "outputs": [],
   "source": [
    "url = r'/home/sarthak/Desktop/bb.html'\n",
    "page = open(url)\n",
    "soup = BeautifulSoup(page.read(), 'html.parser')"
   ]
  },
  {
   "cell_type": "code",
   "execution_count": 40,
   "metadata": {},
   "outputs": [
    {
     "name": "stderr",
     "output_type": "stream",
     "text": [
      "IOPub data rate exceeded.\n",
      "The notebook server will temporarily stop sending output\n",
      "to the client in order to avoid crashing it.\n",
      "To change this limit, set the config variable\n",
      "`--NotebookApp.iopub_data_rate_limit`.\n"
     ]
    }
   ],
   "source": [
    "print(soup.prettify())"
   ]
  },
  {
   "cell_type": "code",
   "execution_count": 89,
   "metadata": {},
   "outputs": [],
   "source": [
    "prod = soup.findAll('div', class_='item prod-deck row ng-scope')\n",
    "df = pd.DataFrame([['a', 'b', 'c', 'd']], columns = ['Company Name', 'Product Name', 'Quantity', 'Price'])\n",
    "for i in range(len(prod)):\n",
    "    pname = prod[i].find('div', class_ = 'col-sm-12 col-xs-7 prod-name')\n",
    "    cname = pname.find('h6')\n",
    "#     print(cname.get_text())\n",
    "    name = pname.find('a')\n",
    "#     print(name.get_text())\n",
    "    pquantity = prod[i].find('div', class_='col-sm-12 col-xs-7 qnty-selection')\n",
    "    quantity = pquantity.find('span', class_='ng-binding')\n",
    "#     print(quantity.get_text())\n",
    "    pprice = prod[i].find('div', class_='col-sm-12 col-xs-12 add-bskt')\n",
    "    pprice = pprice.find('span', class_='discnt-price')\n",
    "    price = pprice.find('span', class_='ng-binding')\n",
    "#     print(price.get_text())\n",
    "#     df = pd.concat([pd.DataFrame([[cname.get_text(), name.get_text(), quantity.get_text(), price.get_text()]], columns=[['Company Name', 'Product Name', 'Quantity', 'Price']])], ignore_index=True)\n",
    "    df2 = pd.DataFrame([[cname.get_text(), name.get_text(), quantity.get_text(), price.get_text()]], columns = ['Company Name', 'Product Name', 'Quantity', 'Price'])\n",
    "    df = df.append(df2, ignore_index=True)\n",
    "df = df[1:]\n",
    "df.to_csv('bb.csv')\n",
    "    "
   ]
  },
  {
   "cell_type": "code",
   "execution_count": 92,
   "metadata": {},
   "outputs": [],
   "source": [
    "import json"
   ]
  },
  {
   "cell_type": "code",
   "execution_count": 135,
   "metadata": {},
   "outputs": [],
   "source": [
    "j=json.load(open(\"aa1\"))['tab_info']['product_map']['all']['prods']\n",
    "df = pd.DataFrame(j)\n",
    "for i in range(2, 101):\n",
    "    file_name = 'aa' + str(i)\n",
    "#     print(file_name)\n",
    "    j=json.load(open(file_name))['tab_info']['product_map']['all']['prods']\n",
    "    df2 = pd.DataFrame(j)\n",
    "    df = df.append(df2, ignore_index = True)\n",
    "    # df.keys()\n",
    "df.to_csv(\"aa.csv\")"
   ]
  }
 ],
 "metadata": {
  "kernelspec": {
   "display_name": "Python 3",
   "language": "python",
   "name": "python3"
  },
  "language_info": {
   "codemirror_mode": {
    "name": "ipython",
    "version": 3
   },
   "file_extension": ".py",
   "mimetype": "text/x-python",
   "name": "python",
   "nbconvert_exporter": "python",
   "pygments_lexer": "ipython3",
   "version": "3.6.3"
  }
 },
 "nbformat": 4,
 "nbformat_minor": 2
}
